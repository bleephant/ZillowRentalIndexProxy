{
 "cells": [
  {
   "cell_type": "code",
   "execution_count": 1,
   "metadata": {},
   "outputs": [],
   "source": [
    "import pandas as pd"
   ]
  },
  {
   "cell_type": "code",
   "execution_count": 39,
   "metadata": {},
   "outputs": [],
   "source": [
    "jo = pd.read_csv('jlt.csv',skiprows=4)"
   ]
  },
  {
   "cell_type": "code",
   "execution_count": 40,
   "metadata": {},
   "outputs": [
    {
     "data": {
      "text/plain": [
       "(4124, 13)"
      ]
     },
     "execution_count": 40,
     "metadata": {},
     "output_type": "execute_result"
    }
   ],
   "source": [
    "jo.shape"
   ]
  },
  {
   "cell_type": "code",
   "execution_count": 41,
   "metadata": {},
   "outputs": [
    {
     "name": "stdout",
     "output_type": "stream",
     "text": [
      "<class 'pandas.core.frame.DataFrame'>\n",
      "RangeIndex: 4124 entries, 0 to 4123\n",
      "Data columns (total 13 columns):\n",
      " #   Column                               Non-Null Count  Dtype  \n",
      "---  ------                               --------------  -----  \n",
      " 0   Period (YYYYMM)                      4086 non-null   float64\n",
      " 1   Metropolitan Statistical Area (MSA)  4086 non-null   object \n",
      " 2   MSA Code                             4086 non-null   float64\n",
      " 3   Job Openings                         4086 non-null   float64\n",
      " 4   Hires                                4086 non-null   float64\n",
      " 5   Quits                                4086 non-null   float64\n",
      " 6   Layoffs & Discharges                 4086 non-null   float64\n",
      " 7   Total Separations                    4086 non-null   float64\n",
      " 8   Job Openings Rate                    4086 non-null   float64\n",
      " 9   Hires Rate                           4086 non-null   float64\n",
      " 10  Quits Rate                           4086 non-null   float64\n",
      " 11  Layoffs & Discharges Rate            4086 non-null   float64\n",
      " 12  Total Separations Rate               4086 non-null   float64\n",
      "dtypes: float64(12), object(1)\n",
      "memory usage: 419.0+ KB\n"
     ]
    }
   ],
   "source": [
    "jo.info()"
   ]
  },
  {
   "cell_type": "code",
   "execution_count": 42,
   "metadata": {},
   "outputs": [
    {
     "data": {
      "text/html": [
       "<div>\n",
       "<style scoped>\n",
       "    .dataframe tbody tr th:only-of-type {\n",
       "        vertical-align: middle;\n",
       "    }\n",
       "\n",
       "    .dataframe tbody tr th {\n",
       "        vertical-align: top;\n",
       "    }\n",
       "\n",
       "    .dataframe thead th {\n",
       "        text-align: right;\n",
       "    }\n",
       "</style>\n",
       "<table border=\"1\" class=\"dataframe\">\n",
       "  <thead>\n",
       "    <tr style=\"text-align: right;\">\n",
       "      <th></th>\n",
       "      <th>Period (YYYYMM)</th>\n",
       "      <th>Metropolitan Statistical Area (MSA)</th>\n",
       "      <th>MSA Code</th>\n",
       "      <th>Job Openings</th>\n",
       "      <th>Hires</th>\n",
       "      <th>Quits</th>\n",
       "      <th>Layoffs &amp; Discharges</th>\n",
       "      <th>Total Separations</th>\n",
       "      <th>Job Openings Rate</th>\n",
       "      <th>Hires Rate</th>\n",
       "      <th>Quits Rate</th>\n",
       "      <th>Layoffs &amp; Discharges Rate</th>\n",
       "      <th>Total Separations Rate</th>\n",
       "    </tr>\n",
       "  </thead>\n",
       "  <tbody>\n",
       "    <tr>\n",
       "      <th>0</th>\n",
       "      <td>200102.0</td>\n",
       "      <td>Atlanta-Sandy Springs-Roswell, GA</td>\n",
       "      <td>12060.0</td>\n",
       "      <td>80.0</td>\n",
       "      <td>76.0</td>\n",
       "      <td>45.0</td>\n",
       "      <td>29.0</td>\n",
       "      <td>81.0</td>\n",
       "      <td>3.4</td>\n",
       "      <td>3.3</td>\n",
       "      <td>2.0</td>\n",
       "      <td>1.3</td>\n",
       "      <td>3.5</td>\n",
       "    </tr>\n",
       "    <tr>\n",
       "      <th>1</th>\n",
       "      <td>200103.0</td>\n",
       "      <td>Atlanta-Sandy Springs-Roswell, GA</td>\n",
       "      <td>12060.0</td>\n",
       "      <td>83.0</td>\n",
       "      <td>82.0</td>\n",
       "      <td>46.0</td>\n",
       "      <td>27.0</td>\n",
       "      <td>79.0</td>\n",
       "      <td>3.5</td>\n",
       "      <td>3.6</td>\n",
       "      <td>2.0</td>\n",
       "      <td>1.2</td>\n",
       "      <td>3.5</td>\n",
       "    </tr>\n",
       "    <tr>\n",
       "      <th>2</th>\n",
       "      <td>200104.0</td>\n",
       "      <td>Atlanta-Sandy Springs-Roswell, GA</td>\n",
       "      <td>12060.0</td>\n",
       "      <td>84.0</td>\n",
       "      <td>88.0</td>\n",
       "      <td>47.0</td>\n",
       "      <td>23.0</td>\n",
       "      <td>76.0</td>\n",
       "      <td>3.5</td>\n",
       "      <td>3.8</td>\n",
       "      <td>2.0</td>\n",
       "      <td>1.0</td>\n",
       "      <td>3.3</td>\n",
       "    </tr>\n",
       "    <tr>\n",
       "      <th>3</th>\n",
       "      <td>200105.0</td>\n",
       "      <td>Atlanta-Sandy Springs-Roswell, GA</td>\n",
       "      <td>12060.0</td>\n",
       "      <td>79.0</td>\n",
       "      <td>95.0</td>\n",
       "      <td>49.0</td>\n",
       "      <td>28.0</td>\n",
       "      <td>83.0</td>\n",
       "      <td>3.3</td>\n",
       "      <td>4.1</td>\n",
       "      <td>2.1</td>\n",
       "      <td>1.2</td>\n",
       "      <td>3.6</td>\n",
       "    </tr>\n",
       "    <tr>\n",
       "      <th>4</th>\n",
       "      <td>200106.0</td>\n",
       "      <td>Atlanta-Sandy Springs-Roswell, GA</td>\n",
       "      <td>12060.0</td>\n",
       "      <td>77.0</td>\n",
       "      <td>97.0</td>\n",
       "      <td>51.0</td>\n",
       "      <td>31.0</td>\n",
       "      <td>88.0</td>\n",
       "      <td>3.2</td>\n",
       "      <td>4.2</td>\n",
       "      <td>2.2</td>\n",
       "      <td>1.3</td>\n",
       "      <td>3.8</td>\n",
       "    </tr>\n",
       "  </tbody>\n",
       "</table>\n",
       "</div>"
      ],
      "text/plain": [
       "   Period (YYYYMM) Metropolitan Statistical Area (MSA)  MSA Code  \\\n",
       "0         200102.0   Atlanta-Sandy Springs-Roswell, GA   12060.0   \n",
       "1         200103.0   Atlanta-Sandy Springs-Roswell, GA   12060.0   \n",
       "2         200104.0   Atlanta-Sandy Springs-Roswell, GA   12060.0   \n",
       "3         200105.0   Atlanta-Sandy Springs-Roswell, GA   12060.0   \n",
       "4         200106.0   Atlanta-Sandy Springs-Roswell, GA   12060.0   \n",
       "\n",
       "   Job Openings  Hires  Quits  Layoffs & Discharges  Total Separations  \\\n",
       "0          80.0   76.0   45.0                  29.0               81.0   \n",
       "1          83.0   82.0   46.0                  27.0               79.0   \n",
       "2          84.0   88.0   47.0                  23.0               76.0   \n",
       "3          79.0   95.0   49.0                  28.0               83.0   \n",
       "4          77.0   97.0   51.0                  31.0               88.0   \n",
       "\n",
       "   Job Openings Rate  Hires Rate  Quits Rate  Layoffs & Discharges Rate  \\\n",
       "0                3.4         3.3         2.0                        1.3   \n",
       "1                3.5         3.6         2.0                        1.2   \n",
       "2                3.5         3.8         2.0                        1.0   \n",
       "3                3.3         4.1         2.1                        1.2   \n",
       "4                3.2         4.2         2.2                        1.3   \n",
       "\n",
       "   Total Separations Rate  \n",
       "0                     3.5  \n",
       "1                     3.5  \n",
       "2                     3.3  \n",
       "3                     3.6  \n",
       "4                     3.8  "
      ]
     },
     "execution_count": 42,
     "metadata": {},
     "output_type": "execute_result"
    }
   ],
   "source": [
    "jo.head()"
   ]
  },
  {
   "cell_type": "markdown",
   "metadata": {},
   "source": [
    "### Renaming Columns"
   ]
  },
  {
   "cell_type": "code",
   "execution_count": 43,
   "metadata": {},
   "outputs": [],
   "source": [
    "jo.rename(columns={'Period (YYYYMM)':'Period', 'Metropolitan Statistical Area (MSA)':'Metro_Area'}, inplace=True)"
   ]
  },
  {
   "cell_type": "markdown",
   "metadata": {},
   "source": [
    "### Removing na values"
   ]
  },
  {
   "cell_type": "code",
   "execution_count": 44,
   "metadata": {},
   "outputs": [
    {
     "data": {
      "text/plain": [
       "Period                       38\n",
       "Metro_Area                   38\n",
       "MSA Code                     38\n",
       "Job Openings                 38\n",
       "Hires                        38\n",
       "Quits                        38\n",
       "Layoffs & Discharges         38\n",
       "Total Separations            38\n",
       "Job Openings Rate            38\n",
       "Hires Rate                   38\n",
       "Quits Rate                   38\n",
       "Layoffs & Discharges Rate    38\n",
       "Total Separations Rate       38\n",
       "dtype: int64"
      ]
     },
     "execution_count": 44,
     "metadata": {},
     "output_type": "execute_result"
    }
   ],
   "source": [
    "jo.isna().sum()"
   ]
  },
  {
   "cell_type": "code",
   "execution_count": 45,
   "metadata": {},
   "outputs": [],
   "source": [
    "naindex = jo.index[jo.isnull().any(axis=1)]"
   ]
  },
  {
   "cell_type": "code",
   "execution_count": 46,
   "metadata": {},
   "outputs": [],
   "source": [
    "jo.drop(naindex,axis=0,inplace=True)"
   ]
  },
  {
   "cell_type": "markdown",
   "metadata": {},
   "source": [
    "## Seperating year and month"
   ]
  },
  {
   "cell_type": "code",
   "execution_count": 48,
   "metadata": {},
   "outputs": [],
   "source": [
    "#first change to datetime\n",
    "jo['Period'] = pd.to_datetime(jo['Period'], format = '%Y%m')\n",
    "jo['Year'] = jo['Period'].dt.year\n",
    "jo['Month'] = jo['Period'].dt.month\n",
    "jo.drop('Period',axis=1,inplace=True)"
   ]
  }
 ],
 "metadata": {
  "kernelspec": {
   "display_name": "Python 3",
   "language": "python",
   "name": "python3"
  },
  "language_info": {
   "codemirror_mode": {
    "name": "ipython",
    "version": 3
   },
   "file_extension": ".py",
   "mimetype": "text/x-python",
   "name": "python",
   "nbconvert_exporter": "python",
   "pygments_lexer": "ipython3",
   "version": "3.8.3"
  }
 },
 "nbformat": 4,
 "nbformat_minor": 4
}
